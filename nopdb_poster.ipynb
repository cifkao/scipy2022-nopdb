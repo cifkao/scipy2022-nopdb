{
 "cells": [
  {
   "cell_type": "markdown",
   "id": "7d3bc7b3-eae8-42eb-807a-193ac922fd9b",
   "metadata": {
    "tags": []
   },
   "source": [
    "# Programmatic debugging and dissection of ML models with NoPdb\n",
    "\n",
    "[NoPdb](https://github.com/cifkao/nopdb) is the first non-interactive (programmatic) debugger for Python. It provides a user-friendly API for debugger-like features in the form of convenient context managers. The current version supports:\n",
    "- capturing arguments, local variables, return values and stack traces of function calls;\n",
    "- capturing the value of a given expression at a given \"breakpoint\";\n",
    "- temporary, on-the-fly injection of arbitrary code into existing functions.\n",
    "\n",
    "NoPdb is available under the BSD 3-Clause license and installable from PyPI via `pip install nopdb`."
   ]
  },
  {
   "cell_type": "code",
   "execution_count": 1,
   "id": "f1a4cc38-a3c3-42de-afcc-b0ce16692de1",
   "metadata": {},
   "outputs": [],
   "source": [
    "import nopdb"
   ]
  },
  {
   "cell_type": "markdown",
   "id": "8f9f6ba1-c2cd-4c9b-892e-af5ff4279b61",
   "metadata": {
    "tags": []
   },
   "source": [
    "## NoPdb features"
   ]
  },
  {
   "cell_type": "markdown",
   "id": "46793155-a63a-4896-b243-a10d8cab6e4a",
   "metadata": {
    "jp-MarkdownHeadingCollapsed": true,
    "tags": []
   },
   "source": [
    "### Capturing function calls"
   ]
  },
  {
   "cell_type": "markdown",
   "id": "979de1f2-34aa-4037-8558-9fc160e83cb0",
   "metadata": {
    "tags": []
   },
   "source": [
    "The functions `capture_call()` and `capture_calls()` allow capturing useful information about calls to a given function.\n",
    "They are typically used as context managers, e.g.:\n",
    "\n",
    "``` python\n",
    "with nopdb.capture_call(fn) as call:\n",
    "    some_code_that_calls_fn()\n",
    "\n",
    "    print(call)  # See details about how fn()\n",
    "                 # was called\n",
    "```\n",
    "\n",
    "For a more concrete example, let us define two simple functions:"
   ]
  },
  {
   "cell_type": "code",
   "execution_count": 2,
   "id": "8d182dc0-0af1-4af1-979b-4f9e00cba7fa",
   "metadata": {},
   "outputs": [],
   "source": [
    "def f(x, y):\n",
    "    z = x + y\n",
    "    return 2 * z\n",
    "\n",
    "def g(x):\n",
    "    return f(x, x)"
   ]
  },
  {
   "cell_type": "markdown",
   "id": "bdeeb343-c8fc-4f5b-a4f9-6b389164f529",
   "metadata": {},
   "source": [
    "We now wish to call `g()` while capturing information about the call to `f()` within it:"
   ]
  },
  {
   "cell_type": "code",
   "execution_count": 4,
   "id": "19e675c6-52b0-493e-865b-7bb0e55cf851",
   "metadata": {},
   "outputs": [
    {
     "name": "stdout",
     "output_type": "stream",
     "text": [
      "4\n"
     ]
    }
   ],
   "source": [
    "with nopdb.capture_call(f) as call:\n",
    "    print(g(1))"
   ]
  },
  {
   "cell_type": "markdown",
   "id": "8caa3793-594c-4d22-bb21-a09f87ad27bf",
   "metadata": {},
   "source": [
    "The variable `call` now holds the captured arguments, local variables, return value and stack trace of the call:"
   ]
  },
  {
   "cell_type": "code",
   "execution_count": 5,
   "id": "41be393e-7e0e-44e3-a2c2-7e651100e434",
   "metadata": {},
   "outputs": [
    {
     "data": {
      "text/plain": [
       "CallCapture(name='f', args=OrderedDict(x=1, y=1), return_value=4)"
      ]
     },
     "execution_count": 5,
     "metadata": {},
     "output_type": "execute_result"
    }
   ],
   "source": [
    "call"
   ]
  },
  {
   "cell_type": "code",
   "execution_count": 18,
   "id": "5f02af73-0186-470e-9ab1-8d5c425f4e70",
   "metadata": {},
   "outputs": [
    {
     "data": {
      "text/plain": [
       "(1, 1, 4)"
      ]
     },
     "execution_count": 18,
     "metadata": {},
     "output_type": "execute_result"
    }
   ],
   "source": [
    "call.args['x'], call.args['y'], call.return_value"
   ]
  },
  {
   "cell_type": "code",
   "execution_count": 8,
   "id": "b04ae303-0bd8-4f6e-b6e4-54e1d79fe0f0",
   "metadata": {},
   "outputs": [
    {
     "data": {
      "text/plain": [
       "{'x': 1, 'y': 1, 'z': 2}"
      ]
     },
     "execution_count": 8,
     "metadata": {},
     "output_type": "execute_result"
    }
   ],
   "source": [
    "call.locals"
   ]
  },
  {
   "cell_type": "code",
   "execution_count": 9,
   "id": "5d3de831-95db-4b50-b805-224ee4898dfa",
   "metadata": {
    "scrolled": true,
    "tags": []
   },
   "outputs": [
    {
     "name": "stdout",
     "output_type": "stream",
     "text": [
      "  File \"/srv/conda/envs/notebook/lib/python3.7/runpy.py\", line 193, in _run_module_as_main\n",
      "    \"__main__\", mod_spec)\n",
      "  File \"/srv/conda/envs/notebook/lib/python3.7/runpy.py\", line 85, in _run_code\n",
      "    exec(code, run_globals)\n",
      "  File \"/srv/conda/envs/notebook/lib/python3.7/site-packages/ipykernel_launcher.py\", line 16, in <module>\n",
      "    app.launch_new_instance()\n",
      "  File \"/srv/conda/envs/notebook/lib/python3.7/site-packages/traitlets/config/application.py\", line 846, in launch_instance\n",
      "    app.start()\n",
      "  File \"/srv/conda/envs/notebook/lib/python3.7/site-packages/ipykernel/kernelapp.py\", line 677, in start\n",
      "    self.io_loop.start()\n",
      "  File \"/srv/conda/envs/notebook/lib/python3.7/site-packages/tornado/platform/asyncio.py\", line 199, in start\n",
      "    self.asyncio_loop.run_forever()\n",
      "  File \"/srv/conda/envs/notebook/lib/python3.7/asyncio/base_events.py\", line 541, in run_forever\n",
      "    self._run_once()\n",
      "  File \"/srv/conda/envs/notebook/lib/python3.7/asyncio/base_events.py\", line 1786, in _run_once\n",
      "    handle._run()\n",
      "  File \"/srv/conda/envs/notebook/lib/python3.7/asyncio/events.py\", line 88, in _run\n",
      "    self._context.run(self._callback, *self._args)\n",
      "  File \"/srv/conda/envs/notebook/lib/python3.7/site-packages/ipykernel/kernelbase.py\", line 461, in dispatch_queue\n",
      "    await self.process_one()\n",
      "  File \"/srv/conda/envs/notebook/lib/python3.7/site-packages/ipykernel/kernelbase.py\", line 450, in process_one\n",
      "    await dispatch(*args)\n",
      "  File \"/srv/conda/envs/notebook/lib/python3.7/site-packages/ipykernel/kernelbase.py\", line 357, in dispatch_shell\n",
      "    await result\n",
      "  File \"/srv/conda/envs/notebook/lib/python3.7/site-packages/ipykernel/kernelbase.py\", line 652, in execute_request\n",
      "    reply_content = await reply_content\n",
      "  File \"/srv/conda/envs/notebook/lib/python3.7/site-packages/ipykernel/ipkernel.py\", line 353, in do_execute\n",
      "    res = shell.run_cell(code, store_history=store_history, silent=silent)\n",
      "  File \"/srv/conda/envs/notebook/lib/python3.7/site-packages/ipykernel/zmqshell.py\", line 532, in run_cell\n",
      "    return super().run_cell(*args, **kwargs)\n",
      "  File \"/srv/conda/envs/notebook/lib/python3.7/site-packages/IPython/core/interactiveshell.py\", line 2915, in run_cell\n",
      "    raw_cell, store_history, silent, shell_futures)\n",
      "  File \"/srv/conda/envs/notebook/lib/python3.7/site-packages/IPython/core/interactiveshell.py\", line 2960, in _run_cell\n",
      "    return runner(coro)\n",
      "  File \"/srv/conda/envs/notebook/lib/python3.7/site-packages/IPython/core/async_helpers.py\", line 78, in _pseudo_sync_runner\n",
      "    coro.send(None)\n",
      "  File \"/srv/conda/envs/notebook/lib/python3.7/site-packages/IPython/core/interactiveshell.py\", line 3186, in run_cell_async\n",
      "    interactivity=interactivity, compiler=compiler, result=result)\n",
      "  File \"/srv/conda/envs/notebook/lib/python3.7/site-packages/IPython/core/interactiveshell.py\", line 3377, in run_ast_nodes\n",
      "    if (await self.run_code(code, result,  async_=asy)):\n",
      "  File \"/srv/conda/envs/notebook/lib/python3.7/site-packages/IPython/core/interactiveshell.py\", line 3457, in run_code\n",
      "    exec(code_obj, self.user_global_ns, self.user_ns)\n",
      "  File \"/tmp/ipykernel_61/3519487648.py\", line 2, in <module>\n",
      "    print(g(1))\n",
      "  File \"/tmp/ipykernel_61/774565432.py\", line 6, in g\n",
      "    return f(x, x)\n",
      "  File \"/tmp/ipykernel_61/774565432.py\", line 1, in f\n",
      "    def f(x, y):\n"
     ]
    }
   ],
   "source": [
    "call.print_stack()"
   ]
  },
  {
   "cell_type": "markdown",
   "id": "d1f32d21-3c8d-4d4e-9d93-dd01eeca06aa",
   "metadata": {},
   "source": [
    "If `f()` was called multiple times within the context manager block,\n",
    "the variable `call` would only store the *most recent* call.\n",
    "To capture *all* calls, one can use `capture_calls()` (in the plural):"
   ]
  },
  {
   "cell_type": "code",
   "execution_count": 10,
   "id": "49a53f46-f282-455f-8f89-5f6c4cbaeaef",
   "metadata": {},
   "outputs": [
    {
     "name": "stdout",
     "output_type": "stream",
     "text": [
      "4\n",
      "168\n"
     ]
    }
   ],
   "source": [
    "with nopdb.capture_calls(f) as calls:\n",
    "    print(g(1))\n",
    "    print(g(42))"
   ]
  },
  {
   "cell_type": "code",
   "execution_count": 11,
   "id": "d1dbbaff-502e-4d63-8c0d-e8cafbc609fd",
   "metadata": {},
   "outputs": [
    {
     "data": {
      "text/plain": [
       "[CallInfo(name='f', args=OrderedDict(x=1, y=1), return_value=4),\n",
       " CallInfo(name='f', args=OrderedDict(x=42, y=42), return_value=168)]"
      ]
     },
     "execution_count": 11,
     "metadata": {},
     "output_type": "execute_result"
    }
   ],
   "source": [
    "calls"
   ]
  },
  {
   "cell_type": "markdown",
   "id": "b716ad12-9089-4338-8292-a6034bcd203e",
   "metadata": {},
   "source": [
    "Both `capture_call` and `capture_calls` support different ways of\n",
    "specifying which function(s) should be considered:\n",
    "- We may pass a function or its name, i.e. `capture_calls(f)` or\n",
    "  `capture_calls('f')`.\n",
    "- Passing a method bound to an instance, as in `capture_calls(obj.f)`,\n",
    "  will work as expected: only calls invoked on that particular instance (and\n",
    "  not other instances of the same class) will be captured.\n",
    "- A module, a filename or a full file path can be passed, e.g.\n",
    "  `capture_calls('f', module=mymodule)`\n",
    "  or\n",
    "  `capture_calls('f', file='mymodule.py')`."
   ]
  },
  {
   "cell_type": "markdown",
   "id": "1bb996dd-53fc-446b-b035-7521343679ae",
   "metadata": {
    "jp-MarkdownHeadingCollapsed": true,
    "tags": []
   },
   "source": [
    "### Setting breakpoints"
   ]
  },
  {
   "cell_type": "markdown",
   "id": "03d0d740-e9fb-4f74-a099-6d3b529aa0cb",
   "metadata": {},
   "source": [
    "In a conventional debugger, a *breakpoint* pauses the\n",
    "execution of the program and launches an interactive\n",
    "debugging session.\n",
    "In NoPdb, a *non-interactive* debugger, a breakpoint\n",
    "instead triggers some actions defined in advance,\n",
    "like evaluating expressions.\n",
    "\n",
    "To set a breakpoint, call the `breakpoint` function. A breakpoint object\n",
    "is returned, allowing to define actions using its methods\n",
    "`eval()` (evaluate an expression),\n",
    "`exec()` (execute a statement) and\n",
    "`debug()` (enter an interactive debugger)."
   ]
  },
  {
   "cell_type": "markdown",
   "id": "25dafcb6-8bc7-48e1-bfb3-63c3a24a13a6",
   "metadata": {
    "tags": []
   },
   "source": [
    "#### Evaluating expressions"
   ]
  },
  {
   "cell_type": "markdown",
   "id": "af2511c0-b4f1-4332-a341-83e7284695a9",
   "metadata": {},
   "source": [
    "Using the example from the previous section, let us\n",
    "try to use a breakpoint to capture\n",
    "the value of a variable:"
   ]
  },
  {
   "cell_type": "code",
   "execution_count": 12,
   "id": "1340aea3-cd63-415a-8417-d548e1e32980",
   "metadata": {},
   "outputs": [
    {
     "name": "stdout",
     "output_type": "stream",
     "text": [
      "4\n",
      "168\n"
     ]
    }
   ],
   "source": [
    "with nopdb.breakpoint(f, line=3) as bp:\n",
    "    # Get the value of z whenever\n",
    "    # the breakpoint is hit\n",
    "    z_values = bp.eval('z')  \n",
    "\n",
    "    print(g(1))\n",
    "    print(g(42))"
   ]
  },
  {
   "cell_type": "code",
   "execution_count": 13,
   "id": "3230d054-c522-434e-8939-de4e5911b178",
   "metadata": {},
   "outputs": [
    {
     "data": {
      "text/plain": [
       "[2, 84]"
      ]
     },
     "execution_count": 13,
     "metadata": {},
     "output_type": "execute_result"
    }
   ],
   "source": [
    "z_values"
   ]
  },
  {
   "cell_type": "markdown",
   "id": "11b2ab16-c9f3-4db2-a4ac-e9ff1d6e6071",
   "metadata": {},
   "source": [
    "#### Executing statements"
   ]
  },
  {
   "cell_type": "markdown",
   "id": "6a2de118-462b-4fb7-8ded-a798ca4c8f6e",
   "metadata": {},
   "source": [
    "Unlike some conventional debuggers, NoPdb allows\n",
    "executing arbitrary statements including variable\n",
    "assignments (note that assigning to local variables is an experimental feature and is only supported under some Python implementations):"
   ]
  },
  {
   "cell_type": "code",
   "execution_count": 15,
   "id": "880c39ee-895b-4636-ac74-45ba4a5b5cc4",
   "metadata": {},
   "outputs": [
    {
     "name": "stdout",
     "output_type": "stream",
     "text": [
      "6\n"
     ]
    }
   ],
   "source": [
    "with nopdb.breakpoint(f, line=3) as bp:\n",
    "    # Get the value of z, then increment it,\n",
    "    # then get the new value\n",
    "    z_before = bp.eval('z')\n",
    "    bp.exec('z += 1')\n",
    "    z_after = bp.eval('z')\n",
    "\n",
    "    print(g(1))  # This would normally print 4"
   ]
  },
  {
   "cell_type": "code",
   "execution_count": 16,
   "id": "deb26098-4e28-473e-8db1-6cf6a538dcf5",
   "metadata": {},
   "outputs": [
    {
     "data": {
      "text/plain": [
       "([2], [3])"
      ]
     },
     "execution_count": 16,
     "metadata": {},
     "output_type": "execute_result"
    }
   ],
   "source": [
    "z_before, z_after"
   ]
  },
  {
   "cell_type": "markdown",
   "id": "315b99fe-ba0e-45df-a19d-0bef51ba193a",
   "metadata": {},
   "source": [
    "## Application: visualizing ML model features"
   ]
  }
 ],
 "metadata": {
  "kernelspec": {
   "display_name": "Python 3 (ipykernel)",
   "language": "python",
   "name": "python3"
  },
  "language_info": {
   "codemirror_mode": {
    "name": "ipython",
    "version": 3
   },
   "file_extension": ".py",
   "mimetype": "text/x-python",
   "name": "python",
   "nbconvert_exporter": "python",
   "pygments_lexer": "ipython3",
   "version": "3.7.12"
  }
 },
 "nbformat": 4,
 "nbformat_minor": 5
}
